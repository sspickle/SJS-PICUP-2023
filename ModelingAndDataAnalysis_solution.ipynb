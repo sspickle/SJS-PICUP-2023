{
 "cells": [
  {
   "attachments": {},
   "cell_type": "markdown",
   "metadata": {},
   "source": [
    "# Modeling and Data Analysis\n",
    "\n",
    "This is an example \"walk through\" of one of the [labs](https://github.com/sspickle/instrumentation-projects/blob/master/proj1/Arduino%20as%20a%20Laboratory%20Interface.ipynb) we do in our sophmore [electronics course](https://github.com/sspickle/instrumentation-projects). The course has two primary learning outcomes:\n",
    "\n",
    "Students learn to apply:\n",
    "\n",
    "1. a variety of computational modeling and statistical techniques centering on experimental data analysis AND\n",
    "2. physics concepts from intro electricity and magnetism in a laboratory setting through the use of electronics and microcontrollers\n",
    "\n",
    "A typical lab would involve\n",
    "\n",
    "1. building a circuit meant to accomplish some experimental goal, \n",
    "2. writing a microcontroller program to run the experiment and collect data, \n",
    "3. apply a statistical/analysis approach to make inferences from the collected data\n",
    "\n",
    "## A generative model\n",
    "\n",
    "One of the important ideas we study is the notion of a generative model. This is a mathematical model of the system that includes some measure of randomness or noise, usually represented as a normal distribution superposed with an exact deterministic model. A very simple example from the intro physics course is Ohm's Law. If we measure the voltage accross a resistor in the lab we'd expect it to depend on the current in the expected way:\n",
    "\n",
    "$$ V = I R $$\n",
    "\n",
    "A generative model might look like this:\n",
    "\n",
    "$$ V = I R + \\delta V$$\n",
    "\n",
    "where $\\delta V$ is a random contribution from noise. We can model this in python using the numpy, scipy, and matplotlib libraries."
   ]
  },
  {
   "cell_type": "code",
   "execution_count": null,
   "metadata": {},
   "outputs": [],
   "source": [
    "import numpy as np\n",
    "import matplotlib.pyplot as plt\n",
    "from scipy.optimize import curve_fit\n",
    "import pandas as pd"
   ]
  },
  {
   "cell_type": "code",
   "execution_count": null,
   "metadata": {},
   "outputs": [],
   "source": [
    "#\n",
    "# first let's create an array of current values:\n",
    "#\n",
    "\n",
    "Rg = 1000.0  # 1 k Ohm\n",
    "sig = 0.005  # 5 mV\n",
    "\n",
    "I = np.linspace(0, 0.010, 11)\n",
    "I"
   ]
  },
  {
   "cell_type": "code",
   "execution_count": null,
   "metadata": {},
   "outputs": [],
   "source": [
    "V = I * Rg + sig*np.random.randn(len(I))\n",
    "V"
   ]
  },
  {
   "cell_type": "code",
   "execution_count": null,
   "metadata": {},
   "outputs": [],
   "source": [
    "plt.plot(I, V, 'o')\n",
    "plt.xlabel('Current (A)')\n",
    "plt.ylabel('Voltage (V)')\n",
    "plt.title(\"V-I curve for a 1 kOhm resistor\")\n",
    "plt.grid()"
   ]
  },
  {
   "cell_type": "code",
   "execution_count": null,
   "metadata": {},
   "outputs": [],
   "source": [
    "#\n",
    "# Let's define the model function\n",
    "#\n",
    "\n",
    "def OhmsLaw(I, R, offset):\n",
    "    return I * R + offset\n",
    "\n",
    "# curve_fit takes 1) function, 2) x, 3) y, 4) initial guess (p0, optional) 5) uncertainties (sigma, optional)\n",
    "(R, offset), cov = curve_fit(OhmsLaw, I, V, p0=[Rg,0], sigma=np.ones(len(I))*sig) \n",
    "\n",
    "dR,doffset = np.sqrt(np.diag(cov))          # returns tuple of parameters and covariance matrix\n",
    "\n",
    "print(\"R = %f +/- %f Ω\" % (R, dR))\n",
    "print(\"offset = %f +/- %f V\" % (offset, doffset))"
   ]
  },
  {
   "cell_type": "code",
   "execution_count": null,
   "metadata": {},
   "outputs": [],
   "source": [
    "Vth = OhmsLaw(I, R, offset)\n",
    "plt.plot(I, V, 'o', label='data')\n",
    "plt.plot(I, Vth, '-', label='fit')\n",
    "plt.xlabel('Current (A)')\n",
    "plt.ylabel('Voltage (V)')\n",
    "plt.title(\"V-I curve for a 1 kOhm resistor\")\n",
    "plt.grid()\n",
    "plt.legend()\n",
    "\n",
    "chisq = np.sum(((V - Vth)/sig)**2)/(len(I)-2)\n",
    "print(\"chisq = %f\" % chisq)"
   ]
  },
  {
   "attachments": {},
   "cell_type": "markdown",
   "metadata": {},
   "source": [
    "The value of the generative model is the ability to validate the data analysis and inference approach. If you can generate data with the same statistical properties as the data you *expect* to measure, and the data analysis approach produces inferences that are consistent with the generative model, it lends credibility to that process."
   ]
  },
  {
   "attachments": {},
   "cell_type": "markdown",
   "metadata": {},
   "source": [
    "\n",
    "\n",
    "\n",
    "## The Schockley Diode Equation\n",
    "\n",
    "The first bit of actual \"electronics\" we encounter in the course is the PN junction, and the form of a light emitting diode (LED). These are non-linear devices that very nearly obey a theoretical relationship:\n",
    "\n",
    "$$ I = I_o (e^{\\frac{q V_d}{\\eta k_b T}}-1) $$\n",
    "\n",
    "Where $V_d$ is the voltage drop across the PN junction, $\\eta$ is the \"emission coefficient\", $q$ is the electron charge, $k_b$ is the Boltzmann constant and $T$ is the absolute temperature. Notice that when the LED is drawing appreciable current we're in a domain where $q V_d/\\eta$ is much greater than $k_b T$, so the $-1$ in parenthesis is negligable compared to the exponential. So our simplifed ideal diode model becomes:\n",
    "\n",
    "$$ I \\approx I_o e^{\\frac{ q V_d}{\\eta k_b T}} $$\n",
    "\n",
    "Now, solve this for $V_d$ as a function of $I$:\n",
    "\n",
    "$$ V_d = \\frac{\\eta k_b T}{q} \\ln(I/I_o)$$\n",
    "\n",
    "You can think of this as the \"Ohm's Law\" of an LED. We can simplify this by defining $A$ and $B$ like so:\n",
    "\n",
    "$$ A=\\frac{\\eta k_b T}{q}$$\n",
    "\n",
    "$$B = -A \\ln(I_o) $$\n",
    "\n",
    "which gives:\n",
    "\n",
    "$$ V_d = A \\ln(I) + B $$\n",
    "\n",
    "If we graph $V_d$ vs $I$ we should get a straight line! Nice.\n",
    "\n"
   ]
  },
  {
   "attachments": {},
   "cell_type": "markdown",
   "metadata": {},
   "source": [
    "# A Generative Model\n",
    "\n",
    "Let's build a generative model for this theory. Usually $\\eta$ is not too far from unity, and $I_0$ is extremely small. For the purposes of having a generative model, let's pick $\\eta \\approx 1.5$ and $I_0 \\approx 1\\times 10^{-21}$"
   ]
  },
  {
   "cell_type": "code",
   "execution_count": null,
   "metadata": {},
   "outputs": [],
   "source": [
    "Igen = np.linspace(0, 0.010, 100)[1:] # exclude I=0\n",
    "kbToQ = 0.0259 # V\n",
    "eta_gen = 1.5\n",
    "I0_gen = 1e-21\n",
    "Agen = eta_gen * kbToQ\n",
    "Bgen = -Agen*np.log(I0_gen)\n",
    "sig = 0.005 # ~2 x minimum resolution of the ADC\n",
    "Vgen = Agen * np.log(Igen) + Bgen + sig*np.random.randn(len(Igen))\n",
    "\n",
    "plt.plot(np.log(Igen), Vgen, 'o', label=\"gen model\")\n",
    "plt.xlabel('log(I) (A)')\n",
    "plt.ylabel('Diode Voltage (V)')\n",
    "plt.title(\"Generative Model: V-I curve for a diode\")\n",
    "plt.grid()"
   ]
  },
  {
   "attachments": {},
   "cell_type": "markdown",
   "metadata": {},
   "source": [
    "So, that doesn't look completely crazy. Let's fit that and see how it goes:"
   ]
  },
  {
   "cell_type": "code",
   "execution_count": null,
   "metadata": {},
   "outputs": [],
   "source": [
    "def linear_model(lnI, A, B):\n",
    "    return A*lnI + B\n",
    "\n",
    "lnI = np.log(Igen)\n",
    "\n",
    "(A, B), cov = curve_fit(linear_model, lnI, Vgen, sigma=np.ones(len(Vgen))*sig)\n",
    "dA,dB = np.sqrt(np.diag(cov))          # returns tuple of parameters and covariance matrix\n",
    "\n",
    "plt.plot(lnI,Vgen,'b.', label=\"data\")\n",
    "\n",
    "Vth = linear_model(lnI, A, B)\n",
    "plt.plot(lnI, Vth, 'r-',label=\"fit\")\n",
    "plt.title(\"LED V-I curve, log scale\")\n",
    "plt.ylabel(\"Diode voltage (V)\")\n",
    "plt.xlabel(\"ln(I) (log of amperes)\")\n",
    "plt.grid()\n",
    "plt.legend()\n",
    "\n",
    "print(\"A = %f +/- %f\" % (A, dA))\n",
    "print(\"B = %f +/- %f V\" % (B, dB))\n",
    "\n",
    "chiSq = np.sum(((Vgen - linear_model(lnI, A, B))/sig)**2)\n",
    "print(\"chiSq = %f\" % (chiSq/(len(Vgen)-2)))\n"
   ]
  },
  {
   "cell_type": "code",
   "execution_count": null,
   "metadata": {},
   "outputs": [],
   "source": [
    "eta = A/kbToQ\n",
    "print(eta)\n",
    "\n",
    "lnI0 = -B/A\n",
    "I0 = np.exp(lnI0)\n",
    "print(I0)"
   ]
  },
  {
   "cell_type": "code",
   "execution_count": null,
   "metadata": {},
   "outputs": [],
   "source": [
    "Amc = A + dA*np.random.normal(size=10000)\n",
    "Bmc = B + dB*np.random.normal(size=10000)\n",
    "etaMC = Amc/kbToQ\n",
    "I0MC = np.exp(-Bmc/Amc)\n",
    "plt.hist(etaMC, bins=20)"
   ]
  },
  {
   "cell_type": "code",
   "execution_count": null,
   "metadata": {},
   "outputs": [],
   "source": [
    "plt.hist(I0MC, bins=20)"
   ]
  },
  {
   "attachments": {},
   "cell_type": "markdown",
   "metadata": {},
   "source": [
    "# Experiment\n",
    "\n",
    "The basic experiment involves driving an LED with varying amounts of current and measuring the voltage drop to witness the non-linear behavior of the device.\n",
    "\n",
    "## First Pass\n",
    "\n",
    "We do a \"first pass\" of this experiment early in the course (first lab!) as an introduction to microcontrollers (e.g., Arduino Uno) and collecting data. The circuit the students build looks like this. Notice that since the Uno has no D/A converter we have to drive the LED with a PWM pin which requires substantial filtering.\n",
    "\n",
    "![circuit](https://raw.githubusercontent.com/sspickle/SJS-PICUP-2023/129debb2a33d2436b457fe92ef5bacbcf79a00db/proj1.png)\n",
    "\n",
    "## Improvement\n",
    "\n",
    "Later in the course, after we've learned a bit about transistors, we work with this version of the circuit:\n",
    "\n",
    "![circuit2](https://raw.githubusercontent.com/sspickle/SJS-PICUP-2023/129debb2a33d2436b457fe92ef5bacbcf79a00db/proj1a.png)\n",
    "\n",
    "This is a much better circuit because it makes the filtering much easier with low currents (and a much smaller capacitor). It also highlights the advantage of driving a load from the Arduino using a BJT with a ~200x current gain. As far as data analysis is concerned there's very little difference between the two circuits, but the data we get is much cleaner with this version.\n",
    "\n",
    "The Arduino code typically looks like this:\n",
    "\n",
    "![code](https://raw.githubusercontent.com/sspickle/SJS-PICUP-2023/129debb2a33d2436b457fe92ef5bacbcf79a00db/micro-code.png)\n",
    "\n",
    "Let's go ahead and load that data!\n"
   ]
  },
  {
   "cell_type": "code",
   "execution_count": null,
   "metadata": {},
   "outputs": [],
   "source": [
    "df = pd.read_csv('https://raw.githubusercontent.com/sspickle/SJS-PICUP-2023/main/LED_data.csv')\n",
    "df.head()"
   ]
  },
  {
   "cell_type": "code",
   "execution_count": null,
   "metadata": {},
   "outputs": [],
   "source": [
    "df.plot()\n",
    "plt.grid()\n",
    "plt.title(\"LED raw data\")\n",
    "plt.xlabel(\"sample number\")\n",
    "plt.ylabel(\"Values (raw)\")"
   ]
  },
  {
   "cell_type": "code",
   "execution_count": null,
   "metadata": {},
   "outputs": [],
   "source": [
    "vc = (df.A1*5/1023).values\n",
    "ve = (df.A0*5/1023).values\n",
    "plt.plot(df.drive, vc, label=\"Vc\")\n",
    "plt.plot(df.drive, ve, label=\"Ve\")\n",
    "plt.grid()\n",
    "plt.title(\"collector and emitter voltages during run\")\n",
    "plt.xlabel(\"loop iteration number (drive)\")\n",
    "plt.ylabel(\"voltage\")\n",
    "plt.legend()"
   ]
  },
  {
   "cell_type": "code",
   "execution_count": null,
   "metadata": {},
   "outputs": [],
   "source": [
    "Re = 220\n",
    "Id = ve/Re\n",
    "Vd = 5-vc\n",
    "valid = (Id > 0) # boolean array, true when Id > 0\n",
    "plt.plot(Vd[valid],Id[valid]*1000,'b.')\n",
    "plt.grid()\n",
    "plt.title(\"I-V curve of LED\")\n",
    "plt.xlabel(\"Diode voltage (V)\")\n",
    "plt.ylabel(\"Diode current (mA)\")"
   ]
  },
  {
   "cell_type": "code",
   "execution_count": null,
   "metadata": {},
   "outputs": [],
   "source": [
    "lnI = np.log(Id[valid])\n",
    "plt.plot(lnI,Vd[valid],'b.')\n",
    "plt.title(\"LED V-I curve, log scale\")\n",
    "plt.ylabel(\"Diode voltage (V)\")\n",
    "plt.xlabel(\"ln(I) (log of amperes)\")\n",
    "plt.grid()"
   ]
  },
  {
   "cell_type": "code",
   "execution_count": null,
   "metadata": {},
   "outputs": [],
   "source": [
    "def linear_model(lnI, A, B):\n",
    "    return A*lnI + B\n",
    "\n",
    "lnI = np.log(Id[valid])\n",
    "\n",
    "A0 = (Vd[valid][-1] - Vd[valid][0])/(lnI[-1] - lnI[0])\n",
    "B0 = Vd[valid][0] - A0*lnI[0]\n",
    "\n",
    "(A, B), cov = curve_fit(linear_model, lnI, Vd[valid], p0=[A0,B0], sigma=np.ones(len(Vd[valid]))*sig)\n",
    "dA,dB = np.sqrt(np.diag(cov))          # returns tuple of parameters and covariance matrix\n",
    "\n",
    "plt.plot(lnI,Vd[valid],'b.', label=\"data\")\n",
    "\n",
    "Vth = linear_model(lnI, A, B)\n",
    "plt.plot(lnI, Vth, 'r-',label=\"fit\")\n",
    "plt.title(\"LED V-I curve, log scale\")\n",
    "plt.ylabel(\"Diode voltage (V)\")\n",
    "plt.xlabel(\"ln(I) (log of amperes)\")\n",
    "plt.grid()\n",
    "plt.legend()\n",
    "\n",
    "print(\"A = %f +/- %f\" % (A, dA))\n",
    "print(\"B = %f +/- %f V\" % (B, dB))\n",
    "\n",
    "chiSq = np.sum(((Vd[valid] - linear_model(lnI, A, B))/sig)**2)\n",
    "print(\"chiSq = %f\" % (chiSq/(len(Vd[valid])-2)))\n"
   ]
  },
  {
   "cell_type": "code",
   "execution_count": null,
   "metadata": {},
   "outputs": [],
   "source": [
    "def linear_model_plusRint(I, A, B, Rint):\n",
    "    return A*np.log(I) + B + Rint*I\n",
    "\n",
    "lnI = np.log(Id[valid])\n",
    "A0 = (Vd[valid][-1] - Vd[valid][0])/(lnI[-1] - lnI[0])\n",
    "B0 = Vd[valid][0] - A0*lnI[0]\n",
    "R0 = 0\n",
    "\n",
    "(A, B, Rint), cov = curve_fit(linear_model_plusRint, Id[valid], Vd[valid], p0=[A0,B0,R0], sigma=np.ones(len(Vd[valid]))*sig)\n",
    "dA,dB,dR = np.sqrt(np.diag(cov))          # returns tuple of parameters and covariance matrix\n",
    "\n",
    "plt.plot(lnI,Vd[valid],'b.', label=\"data\")\n",
    "\n",
    "Vth = linear_model_plusRint(Id[valid], A, B,Rint)\n",
    "plt.plot(lnI, Vth, 'r-',label=\"fit\")\n",
    "plt.title(\"Non linear model fit to LED V-I curve\")\n",
    "plt.ylabel(\"Diode voltage (V)\")\n",
    "plt.xlabel(\"ln(I) (log of amperes)\")\n",
    "plt.grid()\n",
    "plt.legend()\n",
    "\n",
    "print(\"A = %f +/- %f\" % (A, dA))\n",
    "print(\"B = %f +/- %f\" % (B, dB))\n",
    "print(\"Rint = %f +/- %f\" % (Rint, dR))\n",
    "\n",
    "chiSq = np.sum(((Vd[valid] - linear_model_plusRint(Id[valid], A, B, Rint))/sig)**2)\n",
    "print(\"chiSq = %f\" % (chiSq/(len(Vd[valid])-3)))\n"
   ]
  },
  {
   "cell_type": "code",
   "execution_count": null,
   "metadata": {},
   "outputs": [],
   "source": [
    "eta = A/kbToQ\n",
    "print(eta)\n",
    "\n",
    "lnI0 = -B/A\n",
    "I0 = np.exp(lnI0)\n",
    "print(I0)"
   ]
  },
  {
   "cell_type": "code",
   "execution_count": null,
   "metadata": {},
   "outputs": [],
   "source": [
    "Amc = A + dA*np.random.normal(size=10000)\n",
    "Bmc = B + dB*np.random.normal(size=10000)\n",
    "etaMC = Amc/kbToQ\n",
    "I0MC = np.exp(-Bmc/Amc)\n",
    "plt.hist(etaMC, bins=20)"
   ]
  },
  {
   "cell_type": "code",
   "execution_count": null,
   "metadata": {},
   "outputs": [],
   "source": [
    "plt.hist(I0MC, bins=20)"
   ]
  }
 ],
 "metadata": {
  "kernelspec": {
   "display_name": "Python 3 (ipykernel)",
   "language": "python",
   "name": "python3"
  },
  "language_info": {
   "codemirror_mode": {
    "name": "ipython",
    "version": 3
   },
   "file_extension": ".py",
   "mimetype": "text/x-python",
   "name": "python",
   "nbconvert_exporter": "python",
   "pygments_lexer": "ipython3",
   "version": "3.10.10"
  }
 },
 "nbformat": 4,
 "nbformat_minor": 2
}
